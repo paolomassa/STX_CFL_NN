{
 "cells": [
  {
   "cell_type": "code",
   "execution_count": 1,
   "id": "b57615c6-5eaf-48f3-860a-646bcf862d78",
   "metadata": {
    "tags": []
   },
   "outputs": [],
   "source": [
    "import numpy as np\n",
    "import os\n",
    "import aux_code"
   ]
  },
  {
   "cell_type": "markdown",
   "id": "673d57d8-745b-4459-ab03-4f5a841f9164",
   "metadata": {},
   "source": [
    "# Define folders"
   ]
  },
  {
   "cell_type": "code",
   "execution_count": 2,
   "id": "88c05f4a-b612-43da-bfa5-0b919fc6e648",
   "metadata": {},
   "outputs": [],
   "source": [
    "# Folder containing the dataset\n",
    "dataset_folder = os.path.join('.','dataset')\n",
    "# Folder where the quantized MLP weights will be saved\n",
    "quantized_model_folder = os.path.join('.','quantized_model')"
   ]
  },
  {
   "cell_type": "markdown",
   "id": "cde17f38-6302-477f-b92e-2b3aad9aab14",
   "metadata": {
    "tags": []
   },
   "source": [
    "# Load weights"
   ]
  },
  {
   "cell_type": "code",
   "execution_count": 3,
   "id": "8cd15191-5e92-4a9d-8f34-77fb1b19d0eb",
   "metadata": {
    "tags": []
   },
   "outputs": [],
   "source": [
    "weights_folder = os.path.join('.','quantized_model')\n",
    "\n",
    "weightsI1 = np.load(os.path.join(weights_folder, 'weightsI1.npy'))\n",
    "bias1     = np.load(os.path.join(weights_folder, 'bias1.npy'))\n",
    "weights12 = np.load(os.path.join(weights_folder, 'weights12.npy'))\n",
    "bias2     = np.load(os.path.join(weights_folder, 'bias2.npy'))\n",
    "weights23 = np.load(os.path.join(weights_folder, 'weights23.npy'))\n",
    "bias3     = np.load(os.path.join(weights_folder, 'bias3.npy'))\n",
    "weights3O = np.load(os.path.join(weights_folder, 'weights3O.npy'))\n",
    "biasO     = np.load(os.path.join(weights_folder, 'biasO.npy'))"
   ]
  },
  {
   "cell_type": "markdown",
   "id": "9e3e18d5-90f2-4b13-ab65-8ed7cfc109b6",
   "metadata": {},
   "source": [
    "# Example"
   ]
  },
  {
   "cell_type": "code",
   "execution_count": 4,
   "id": "91676778-1f27-4a26-9039-fd0dd37d969f",
   "metadata": {},
   "outputs": [],
   "source": [
    "SCALE    = 11\n",
    "int_type = np.int32"
   ]
  },
  {
   "cell_type": "code",
   "execution_count": 19,
   "id": "17ccb990-14df-47d7-a999-c94e38f22b41",
   "metadata": {
    "tags": []
   },
   "outputs": [],
   "source": [
    "test_set = np.load(os.path.join(dataset_folder, 'test_set.npz'))\n",
    "x_test = aux_code.normalize_quantized_dataset(test_set['nn_data_test'].astype(int_type), SCALE=SCALE)\n",
    "y_test = test_set['stx_flare_loc_test']\n",
    "cfl_loc_test = test_set['cfl_loc_test']"
   ]
  },
  {
   "cell_type": "code",
   "execution_count": 25,
   "id": "2f08e7ef-c69c-45db-8cbc-0b234e0902da",
   "metadata": {
    "tags": []
   },
   "outputs": [],
   "source": [
    "# NN prediction\n",
    "idx_example = 2\n",
    "\n",
    "nn_out = aux_code.nn_model(x_test[idx_example,:], \n",
    "                           weightsI1, bias1,\n",
    "                           weights12, bias2,\n",
    "                           weights23, bias3,\n",
    "                           weights3O, biasO,\n",
    "                           SCALE = SCALE)"
   ]
  },
  {
   "cell_type": "code",
   "execution_count": 26,
   "id": "432d884e-b295-48c0-b657-4fc55101a7cc",
   "metadata": {
    "tags": []
   },
   "outputs": [],
   "source": [
    "# Scale nn prediction\n",
    "xy_flare_norm = 4000\n",
    "nn_out = (nn_out * xy_flare_norm + 2**(SCALE-1)) >> SCALE"
   ]
  },
  {
   "cell_type": "code",
   "execution_count": 27,
   "id": "8fa8ee7f-89d6-46bf-b0d4-a64fd00d5961",
   "metadata": {
    "tags": []
   },
   "outputs": [
    {
     "name": "stdout",
     "output_type": "stream",
     "text": [
      "Flare location from imaging\n",
      "X: -928.0\n",
      "Y: 224.0\n",
      "\n",
      "NN prediction\n",
      "X: -957\n",
      "Y: 252\n",
      "\n",
      "CFL Solution\n",
      "X: -971.09\n",
      "Y: 184.40964\n"
     ]
    }
   ],
   "source": [
    "# Compare with flare loc from imaging\n",
    "print(\"Flare location from imaging\")\n",
    "print(\"X: \"+str(y_test[idx_example,0]))\n",
    "print(\"Y: \"+str(y_test[idx_example,1]))\n",
    "print()\n",
    "print(\"NN prediction\")\n",
    "print(\"X: \"+str(nn_out[0]))\n",
    "print(\"Y: \"+str(nn_out[1]))\n",
    "print()\n",
    "print(\"CFL Solution\")\n",
    "print(\"X: \"+str(cfl_loc_test[idx_example,0]))\n",
    "print(\"Y: \"+str(cfl_loc_test[idx_example,1]))"
   ]
  }
 ],
 "metadata": {
  "kernelspec": {
   "display_name": "tf_env",
   "language": "python",
   "name": "tf_env"
  },
  "language_info": {
   "codemirror_mode": {
    "name": "ipython",
    "version": 3
   },
   "file_extension": ".py",
   "mimetype": "text/x-python",
   "name": "python",
   "nbconvert_exporter": "python",
   "pygments_lexer": "ipython3",
   "version": "3.7.16"
  }
 },
 "nbformat": 4,
 "nbformat_minor": 5
}

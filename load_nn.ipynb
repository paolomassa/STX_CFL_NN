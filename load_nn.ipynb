{
 "cells": [
  {
   "cell_type": "code",
   "execution_count": 1,
   "id": "b57615c6-5eaf-48f3-860a-646bcf862d78",
   "metadata": {
    "tags": []
   },
   "outputs": [],
   "source": [
    "import numpy as np\n",
    "import os"
   ]
  },
  {
   "cell_type": "markdown",
   "id": "cde17f38-6302-477f-b92e-2b3aad9aab14",
   "metadata": {
    "tags": []
   },
   "source": [
    "# Load weights"
   ]
  },
  {
   "cell_type": "code",
   "execution_count": 2,
   "id": "8cd15191-5e92-4a9d-8f34-77fb1b19d0eb",
   "metadata": {
    "tags": []
   },
   "outputs": [],
   "source": [
    "weights_folder = os.path.join('.','weights')\n",
    "\n",
    "weightsI1 = np.load(os.path.join(weights_folder, 'weightsI1.npy'))\n",
    "bias1     = np.load(os.path.join(weights_folder, 'bias1.npy'))\n",
    "weights12 = np.load(os.path.join(weights_folder, 'weights12.npy'))\n",
    "bias2     = np.load(os.path.join(weights_folder, 'bias2.npy'))\n",
    "weights23 = np.load(os.path.join(weights_folder, 'weights23.npy'))\n",
    "bias3     = np.load(os.path.join(weights_folder, 'bias3.npy'))\n",
    "weights3O = np.load(os.path.join(weights_folder, 'weights3O.npy'))\n",
    "biasO     = np.load(os.path.join(weights_folder, 'biasO.npy'))"
   ]
  },
  {
   "cell_type": "markdown",
   "id": "2c5acf0b-5856-45ac-83b7-50dd324c0ab6",
   "metadata": {
    "tags": []
   },
   "source": [
    "# Define nn model"
   ]
  },
  {
   "cell_type": "code",
   "execution_count": 3,
   "id": "de3a1deb-2a4d-4cf2-a177-849202440c05",
   "metadata": {
    "tags": []
   },
   "outputs": [],
   "source": [
    "def nn_model(inputs, \n",
    "             weightsI1, bias1,\n",
    "             weights12, bias2,\n",
    "             weights23, bias3,\n",
    "             weights3O, biasO,\n",
    "             SCALE = 15,\n",
    "             int_type=np.int32):\n",
    "    \n",
    "    # # Scale the inputs by 2^SCALE\n",
    "    # inputs = (inputs * (2 ** SCALE)).astype(int_type)\n",
    "    # Layer 1\n",
    "    hidden1 = np.zeros(100, dtype=int_type)\n",
    "    for h1 in range(100):\n",
    "        sum_ = bias1[h1]\n",
    "        for i in range(12):\n",
    "            sum_ += (inputs[i] * weightsI1[i][h1]) >> SCALE\n",
    "            # print(bin(sum_))\n",
    "        hidden1[h1] = max(0, sum_)  # ReLU activation\n",
    "\n",
    "    # Layer 2\n",
    "    hidden2 = np.zeros(100, dtype=int_type)\n",
    "    for h2 in range(100):\n",
    "        sum_ = bias2[h2]\n",
    "        for h1 in range(100):\n",
    "            sum_ += (hidden1[h1] * weights12[h1][h2]) >> SCALE\n",
    "        hidden2[h2] = max(0, sum_)  # ReLU activation\n",
    "\n",
    "    # Layer 3\n",
    "    hidden3 = np.zeros(100, dtype=int_type)\n",
    "    for h3 in range(100):\n",
    "        sum_ = bias3[h3]\n",
    "        for h2 in range(100):\n",
    "            sum_ += (hidden2[h2] * weights23[h2][h3]) >> SCALE\n",
    "        hidden3[h3] = max(0, sum_)  # ReLU activation\n",
    "\n",
    "    # Output layer\n",
    "    outputs = np.zeros(2, dtype=int_type)\n",
    "    for o in range(2):\n",
    "        sum_ = biasO[o]\n",
    "        for h3 in range(100):\n",
    "            sum_ += (hidden3[h3] * weights3O[h3][o]) >> SCALE\n",
    "        outputs[o] = sum_\n",
    "\n",
    "    return outputs"
   ]
  },
  {
   "cell_type": "markdown",
   "id": "9e3e18d5-90f2-4b13-ab65-8ed7cfc109b6",
   "metadata": {},
   "source": [
    "# Example"
   ]
  },
  {
   "cell_type": "code",
   "execution_count": 4,
   "id": "17ccb990-14df-47d7-a999-c94e38f22b41",
   "metadata": {
    "tags": []
   },
   "outputs": [],
   "source": [
    "example_folder = os.path.join('.','example_data')"
   ]
  },
  {
   "cell_type": "code",
   "execution_count": 5,
   "id": "037be963-54e7-43cb-90c3-c3303cd925de",
   "metadata": {
    "tags": []
   },
   "outputs": [],
   "source": [
    "# Read nn input\n",
    "nn_input = np.load(os.path.join(example_folder, 'nn_input.npy'))\n",
    "# Flare location obtained from imaging. Just used to compare the results of the quantized nn\n",
    "# with the actual flare location\n",
    "flare_loc_im = np.load(os.path.join(example_folder, 'flare_loc_im.npy'))"
   ]
  },
  {
   "cell_type": "code",
   "execution_count": 6,
   "id": "2f08e7ef-c69c-45db-8cbc-0b234e0902da",
   "metadata": {
    "tags": []
   },
   "outputs": [],
   "source": [
    "# Normalize and scale data\n",
    "SCALE = 15\n",
    "\n",
    "max_nn_input    = np.max(nn_input)\n",
    "nn_input_scaled = (nn_input * (2 ** SCALE)) // max_nn_input"
   ]
  },
  {
   "cell_type": "code",
   "execution_count": 7,
   "id": "58d00a66-8a9e-4193-a61b-2a56183d9d64",
   "metadata": {
    "tags": []
   },
   "outputs": [],
   "source": [
    "# NN prediction\n",
    "nn_out = nn_model(nn_input_scaled, \n",
    "                  weightsI1, bias1,\n",
    "                  weights12, bias2,\n",
    "                  weights23, bias3,\n",
    "                  weights3O, biasO,\n",
    "                  SCALE = SCALE)"
   ]
  },
  {
   "cell_type": "code",
   "execution_count": 8,
   "id": "432d884e-b295-48c0-b657-4fc55101a7cc",
   "metadata": {
    "tags": []
   },
   "outputs": [],
   "source": [
    "# Scale nn prediction\n",
    "xy_flare_norm = 4000\n",
    "nn_out = (nn_out * xy_flare_norm) >> SCALE"
   ]
  },
  {
   "cell_type": "code",
   "execution_count": 9,
   "id": "8fa8ee7f-89d6-46bf-b0d4-a64fd00d5961",
   "metadata": {
    "tags": []
   },
   "outputs": [
    {
     "name": "stdout",
     "output_type": "stream",
     "text": [
      "Flare location from imaging\n",
      "X: -272.0\n",
      "Y: -16.0\n",
      "\n",
      "NN prediction\n",
      "X: -324\n",
      "Y: -10\n"
     ]
    }
   ],
   "source": [
    "# Compare with flare loc from imaging\n",
    "print(\"Flare location from imaging\")\n",
    "print(\"X: \"+str(flare_loc_im[0]))\n",
    "print(\"Y: \"+str(flare_loc_im[1]))\n",
    "print()\n",
    "print(\"NN prediction\")\n",
    "print(\"X: \"+str(nn_out[0]))\n",
    "print(\"Y: \"+str(nn_out[1]))"
   ]
  }
 ],
 "metadata": {
  "kernelspec": {
   "display_name": "tf_env",
   "language": "python",
   "name": "tf_env"
  },
  "language_info": {
   "codemirror_mode": {
    "name": "ipython",
    "version": 3
   },
   "file_extension": ".py",
   "mimetype": "text/x-python",
   "name": "python",
   "nbconvert_exporter": "python",
   "pygments_lexer": "ipython3",
   "version": "3.7.16"
  }
 },
 "nbformat": 4,
 "nbformat_minor": 5
}
